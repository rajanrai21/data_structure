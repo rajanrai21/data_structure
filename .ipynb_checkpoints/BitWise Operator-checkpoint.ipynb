{
 "cells": [
  {
   "cell_type": "markdown",
   "metadata": {},
   "source": [
    "# Bitwise operator in Python"
   ]
  },
  {
   "cell_type": "code",
   "execution_count": 19,
   "metadata": {},
   "outputs": [],
   "source": [
    "# we are taking a=10 and b=11 in decimal form\n",
    "a=10\n",
    "b=11"
   ]
  },
  {
   "cell_type": "markdown",
   "metadata": {},
   "source": [
    "    Binary value of a    = 000..1010\n",
    "    Binary value of b    = 000..1011"
   ]
  },
  {
   "cell_type": "code",
   "execution_count": 24,
   "metadata": {},
   "outputs": [
    {
     "name": "stdout",
     "output_type": "stream",
     "text": [
      "10\n"
     ]
    }
   ],
   "source": [
    "print(a&b)#AND"
   ]
  },
  {
   "cell_type": "markdown",
   "metadata": {},
   "source": [
    "    Binary value of a    = 000..1010\n",
    "    Binary value of b    = 000..1011\n",
    "    --------------------------------\n",
    "    Binary value of a&b  = 000..1010 = 10"
   ]
  },
  {
   "cell_type": "code",
   "execution_count": 25,
   "metadata": {},
   "outputs": [
    {
     "name": "stdout",
     "output_type": "stream",
     "text": [
      "11\n"
     ]
    }
   ],
   "source": [
    "print(a|b)#OR"
   ]
  },
  {
   "cell_type": "markdown",
   "metadata": {},
   "source": [
    "    Binary value of a    = 000..1010\n",
    "    Binary value of b    = 000..1011\n",
    "    --------------------------------\n",
    "    Binary value of a|b  = 000..1011 = 11"
   ]
  },
  {
   "cell_type": "code",
   "execution_count": 26,
   "metadata": {},
   "outputs": [
    {
     "name": "stdout",
     "output_type": "stream",
     "text": [
      "1\n"
     ]
    }
   ],
   "source": [
    "print(a^b)#XOR"
   ]
  },
  {
   "cell_type": "markdown",
   "metadata": {},
   "source": [
    "    Binary value of a    = 000..1010\n",
    "    Binary value of b    = 000..1011\n",
    "    --------------------------------\n",
    "    Binary value of a^b  = 000..0001 = 1"
   ]
  },
  {
   "cell_type": "code",
   "execution_count": 27,
   "metadata": {},
   "outputs": [
    {
     "name": "stdout",
     "output_type": "stream",
     "text": [
      "-11\n"
     ]
    }
   ],
   "source": [
    "print(~a)#NOT"
   ]
  },
  {
   "cell_type": "markdown",
   "metadata": {},
   "source": [
    "    Binary value of a    = 000..1010\n",
    "    --------------------------------\n",
    "    Binary value of ~a   = 111..0101 \n",
    "    \n",
    "    if first bit is 1 it signify that number is negative (negative numbers are stored as 2's compliment) lets say we are using 8 bit system than so \n",
    "    ~a             = 1111 0101\n",
    "    1's compliment = 0000 1010\n",
    "    2's compliment = 0000 1010 + 1 => 0000 1011 => 11 and first bit is in ~a is 1 so answer is -11\n",
    "    \n",
    "    Note :\n",
    "    1111 1111 in decimal = 2^8-1 \n",
    "    1's compliment = 0000 0000\n",
    "    2's compliment = 0000 0001 => -1 \n",
    "    so -1 = 2^8-1 = 1111 1111 \n",
    "    similarly we can say  -11 = 2^8-11 = 2^8-1-10 = 1111 1111 - 0000 1010 = 1111 0101\n",
    "    "
   ]
  },
  {
   "cell_type": "code",
   "execution_count": 28,
   "metadata": {},
   "outputs": [
    {
     "name": "stdout",
     "output_type": "stream",
     "text": [
      "-12\n"
     ]
    }
   ],
   "source": [
    "print(~b)#NOT"
   ]
  },
  {
   "cell_type": "markdown",
   "metadata": {},
   "source": [
    "    Binary value of b    = 000..1011\n",
    "    --------------------------------\n",
    "    Binary value of ~b   = 111..0100 \n",
    "    \n",
    "    if first bit is 1 it signify that number is negative (negative numbers are stored as 2's compliment)"
   ]
  },
  {
   "cell_type": "code",
   "execution_count": 32,
   "metadata": {},
   "outputs": [
    {
     "name": "stdout",
     "output_type": "stream",
     "text": [
      "20\n"
     ]
    }
   ],
   "source": [
    "print(a<<1)#Left Shift a by 1"
   ]
  },
  {
   "cell_type": "markdown",
   "metadata": {},
   "source": [
    "    Binary value of a    = 000..1010\n",
    "    --------------------------------\n",
    "    Binary value of a<<1 = 00..10100 = 10*2^1 = 20"
   ]
  },
  {
   "cell_type": "code",
   "execution_count": 33,
   "metadata": {},
   "outputs": [
    {
     "name": "stdout",
     "output_type": "stream",
     "text": [
      "40\n"
     ]
    }
   ],
   "source": [
    "print(a<<2)#Left Shift a by 2"
   ]
  },
  {
   "cell_type": "markdown",
   "metadata": {},
   "source": [
    "    Binary value of a    = 000..1010\n",
    "    --------------------------------\n",
    "    Binary value of a<<2 = 0..101000 = 10*2^2 = 40"
   ]
  },
  {
   "cell_type": "code",
   "execution_count": 34,
   "metadata": {},
   "outputs": [
    {
     "name": "stdout",
     "output_type": "stream",
     "text": [
      "22\n"
     ]
    }
   ],
   "source": [
    "print(b<<1)#Left Shift b by 1"
   ]
  },
  {
   "cell_type": "markdown",
   "metadata": {},
   "source": [
    "    Binary value of b    = 000..1011\n",
    "    --------------------------------\n",
    "    Binary value of b<<1 = 00..10110 = 11*2^1 = 22"
   ]
  },
  {
   "cell_type": "code",
   "execution_count": 35,
   "metadata": {},
   "outputs": [
    {
     "name": "stdout",
     "output_type": "stream",
     "text": [
      "44\n"
     ]
    }
   ],
   "source": [
    "print(b<<2)#Left Shift b by 2"
   ]
  },
  {
   "cell_type": "markdown",
   "metadata": {},
   "source": [
    "    Binary value of b    = 000..1011\n",
    "    --------------------------------\n",
    "    Binary value of b<<2 = 0..101100 = 11*2^2 = 44"
   ]
  },
  {
   "cell_type": "code",
   "execution_count": 36,
   "metadata": {},
   "outputs": [
    {
     "name": "stdout",
     "output_type": "stream",
     "text": [
      "5\n"
     ]
    }
   ],
   "source": [
    "print(a>>1)#Right shift a by 1"
   ]
  },
  {
   "cell_type": "markdown",
   "metadata": {},
   "source": [
    "    Binary value of a    = 000..1010\n",
    "    --------------------------------\n",
    "    Binary value of a>>1 = 0000..101 = 10/2^1 = 5"
   ]
  },
  {
   "cell_type": "code",
   "execution_count": 37,
   "metadata": {},
   "outputs": [
    {
     "name": "stdout",
     "output_type": "stream",
     "text": [
      "2\n"
     ]
    }
   ],
   "source": [
    "print(a>>2)#Right shift a by 2"
   ]
  },
  {
   "cell_type": "markdown",
   "metadata": {},
   "source": [
    "    Binary value of a    = 000..1010\n",
    "    --------------------------------\n",
    "    Binary value of a>>2 = 00000..10 = 10/2^2 = 2"
   ]
  },
  {
   "cell_type": "code",
   "execution_count": 38,
   "metadata": {},
   "outputs": [
    {
     "name": "stdout",
     "output_type": "stream",
     "text": [
      "5\n"
     ]
    }
   ],
   "source": [
    "print(b>>1)#Right shift b by 1"
   ]
  },
  {
   "cell_type": "markdown",
   "metadata": {},
   "source": [
    "    Binary value of b    = 000..1011\n",
    "    --------------------------------\n",
    "    Binary value of b>>1 = 0000..101 = 11//2^1 = 5"
   ]
  },
  {
   "cell_type": "code",
   "execution_count": 39,
   "metadata": {},
   "outputs": [
    {
     "name": "stdout",
     "output_type": "stream",
     "text": [
      "2\n"
     ]
    }
   ],
   "source": [
    "print(b>>2)#Right shift b by 2"
   ]
  },
  {
   "cell_type": "markdown",
   "metadata": {},
   "source": [
    "    Binary value of b    = 000..1011\n",
    "    --------------------------------\n",
    "    Binary value of b>>2 = 00000..10 = 11//2^2 = 2"
   ]
  },
  {
   "cell_type": "code",
   "execution_count": 41,
   "metadata": {},
   "outputs": [
    {
     "name": "stdout",
     "output_type": "stream",
     "text": [
      "-20\n"
     ]
    }
   ],
   "source": [
    "print(-10<<1)"
   ]
  },
  {
   "cell_type": "markdown",
   "metadata": {},
   "source": [
    "    -10 => 2's complemrnt of 0000 1010 => 1111 0101 + 1 = 1111 0110\n",
    "    -10 << 1 => 1110 1100 in decimal => 1110 1100 2's complement = 0001 0011 + 1 => 0001 0100 = -20\n",
    "    (as 1st bit  is 1)"
   ]
  },
  {
   "cell_type": "markdown",
   "metadata": {},
   "source": [
    "# Program"
   ]
  },
  {
   "cell_type": "markdown",
   "metadata": {},
   "source": [
    "## 1. Check if kth bit is set or not in a number"
   ]
  },
  {
   "cell_type": "markdown",
   "metadata": {},
   "source": [
    "    Example\n",
    "    num = 10 => 1010\n",
    "    if k=2 o/p = isSet(num,k) = True\n",
    "    if k=3 o/p = isSet(num,k) = False"
   ]
  },
  {
   "cell_type": "code",
   "execution_count": 61,
   "metadata": {},
   "outputs": [],
   "source": [
    "#firstly we will move 1 to kth position using left shift operator (k-1) times than we do AND with num if bit is\n",
    "#not set this operation return 0 else non zero value\n",
    "\n",
    "def is_Set_Using_Left_Shift(num,k):\n",
    "    if num & (1<<k-1) != 0:\n",
    "        return True\n",
    "    else:\n",
    "        return False"
   ]
  },
  {
   "cell_type": "code",
   "execution_count": 62,
   "metadata": {},
   "outputs": [
    {
     "data": {
      "text/plain": [
       "True"
      ]
     },
     "execution_count": 62,
     "metadata": {},
     "output_type": "execute_result"
    }
   ],
   "source": [
    "is_Set_Using_Left_Shift(10,4)"
   ]
  },
  {
   "cell_type": "code",
   "execution_count": 68,
   "metadata": {},
   "outputs": [],
   "source": [
    "#firstly we will move kth bit to first position using right shift operator (k-1) times than we do AND \n",
    "#with 1 if bit is not set this operation return 0 else 1\n",
    "\n",
    "def is_Set_Using_Right_Shift(num,k):\n",
    "    if num>>k-1 & 1 == 1:\n",
    "        return True\n",
    "    else:\n",
    "        return False"
   ]
  },
  {
   "cell_type": "code",
   "execution_count": 67,
   "metadata": {},
   "outputs": [
    {
     "data": {
      "text/plain": [
       "True"
      ]
     },
     "execution_count": 67,
     "metadata": {},
     "output_type": "execute_result"
    }
   ],
   "source": [
    "is_Set_Using_Right_Shift(10,4)"
   ]
  },
  {
   "cell_type": "markdown",
   "metadata": {},
   "source": [
    "## 2. Count Set bit in a Number"
   ]
  },
  {
   "cell_type": "markdown",
   "metadata": {},
   "source": [
    "    Example\n",
    "    num = 10 => 1010\n",
    "    o/p = 2\n",
    "    num = 7 => 0111\n",
    "    o/p = 3"
   ]
  },
  {
   "cell_type": "markdown",
   "metadata": {},
   "source": [
    "    We can resolve this by doing AND operation with 1 and number than moving each bit to right by 1 untill our number not become zero if result of operation is 1 we will increase count by 1 and so on. "
   ]
  },
  {
   "cell_type": "code",
   "execution_count": 79,
   "metadata": {},
   "outputs": [],
   "source": [
    "def countSetbit1(num):\n",
    "    count=0\n",
    "    while num != 0:\n",
    "        if num & 1 == 1:\n",
    "            count+=1\n",
    "        num>>=1\n",
    "    return count"
   ]
  },
  {
   "cell_type": "code",
   "execution_count": 80,
   "metadata": {},
   "outputs": [
    {
     "data": {
      "text/plain": [
       "6"
      ]
     },
     "execution_count": 80,
     "metadata": {},
     "output_type": "execute_result"
    }
   ],
   "source": [
    "countSetbit1(12345)"
   ]
  },
  {
   "cell_type": "code",
   "execution_count": 81,
   "metadata": {},
   "outputs": [],
   "source": [
    "def countSetbit2(num):\n",
    "    count=0\n",
    "    while num != 0:\n",
    "        count+=num&1\n",
    "        num>>=1\n",
    "    return count"
   ]
  },
  {
   "cell_type": "code",
   "execution_count": 85,
   "metadata": {},
   "outputs": [
    {
     "data": {
      "text/plain": [
       "6"
      ]
     },
     "execution_count": 85,
     "metadata": {},
     "output_type": "execute_result"
    }
   ],
   "source": [
    "countSetbit2(123)"
   ]
  },
  {
   "cell_type": "code",
   "execution_count": 102,
   "metadata": {},
   "outputs": [],
   "source": [
    "# This is a standard algo in which we check untill num !=0 we update number with AND operation of number \n",
    "# with number -1 it result new number in which last set bit of number is now unset  \n",
    "def countSetbit3(num):\n",
    "    count=0\n",
    "    while num != 0:\n",
    "        num = num & num-1  \n",
    "        count+=1\n",
    "    return count"
   ]
  },
  {
   "cell_type": "code",
   "execution_count": 103,
   "metadata": {},
   "outputs": [
    {
     "data": {
      "text/plain": [
       "6"
      ]
     },
     "execution_count": 103,
     "metadata": {},
     "output_type": "execute_result"
    }
   ],
   "source": [
    "countSetbit3(123)"
   ]
  },
  {
   "cell_type": "markdown",
   "metadata": {},
   "source": [
    "## 3. Is number is power of 2"
   ]
  },
  {
   "cell_type": "markdown",
   "metadata": {},
   "source": [
    "    num = 10\n",
    "    o/p = False\n",
    "    num = 16\n",
    "    o/p = True\n",
    "    "
   ]
  },
  {
   "cell_type": "code",
   "execution_count": 104,
   "metadata": {},
   "outputs": [],
   "source": [
    "# by continues dividing number by 2 \n",
    "def is_Power_of_2(num):\n",
    "    if num == 0:\n",
    "        return False\n",
    "    while num != 1:\n",
    "        if num%2 != 0:\n",
    "            return False\n",
    "        num//=2\n",
    "    return True"
   ]
  },
  {
   "cell_type": "code",
   "execution_count": 105,
   "metadata": {},
   "outputs": [
    {
     "data": {
      "text/plain": [
       "True"
      ]
     },
     "execution_count": 105,
     "metadata": {},
     "output_type": "execute_result"
    }
   ],
   "source": [
    "is_Power_of_2(8)"
   ]
  },
  {
   "cell_type": "markdown",
   "metadata": {},
   "source": [
    "    if number is power of 2 than it will only have 1 set bit in binary form for example:\n",
    "    1 = 2^0 = 1\n",
    "    2 = 2^1 = 10\n",
    "    4 = 2^2 = 100\n",
    "    8 = 2^3 = 1000"
   ]
  },
  {
   "cell_type": "code",
   "execution_count": 108,
   "metadata": {},
   "outputs": [],
   "source": [
    "def is_Power_of(num):\n",
    "    return countSetbit3(num) == 1"
   ]
  },
  {
   "cell_type": "code",
   "execution_count": 116,
   "metadata": {},
   "outputs": [
    {
     "data": {
      "text/plain": [
       "False"
      ]
     },
     "execution_count": 116,
     "metadata": {},
     "output_type": "execute_result"
    }
   ],
   "source": [
    "is_Power_of(0)"
   ]
  },
  {
   "cell_type": "code",
   "execution_count": 125,
   "metadata": {},
   "outputs": [],
   "source": [
    "def is_Power_of_Two(num):\n",
    "    if num == 0:\n",
    "        return False\n",
    "    return num & num-1 == 0"
   ]
  },
  {
   "cell_type": "code",
   "execution_count": 130,
   "metadata": {},
   "outputs": [
    {
     "data": {
      "text/plain": [
       "True"
      ]
     },
     "execution_count": 130,
     "metadata": {},
     "output_type": "execute_result"
    }
   ],
   "source": [
    "is_Power_of_Two(64)"
   ]
  },
  {
   "cell_type": "markdown",
   "metadata": {},
   "source": [
    "## 4. Find odd occuring number in a list or array"
   ]
  },
  {
   "cell_type": "markdown",
   "metadata": {},
   "source": [
    "     a=[4,3,4,4,4,5,5]\n",
    "     o/p=3\n",
    "     a=[8,7,7,8,8]\n",
    "     o/p=8"
   ]
  },
  {
   "cell_type": "code",
   "execution_count": 149,
   "metadata": {},
   "outputs": [],
   "source": [
    "def odd_Occuring_Term(a):\n",
    "    for i in range(len(a)):\n",
    "        count=0\n",
    "        for j in range(len(a)):\n",
    "            if a[i]==a[j]:\n",
    "                count+=1\n",
    "        if count%2!=0:\n",
    "            return a[i]           "
   ]
  },
  {
   "cell_type": "code",
   "execution_count": 155,
   "metadata": {},
   "outputs": [
    {
     "data": {
      "text/plain": [
       "3"
      ]
     },
     "execution_count": 155,
     "metadata": {},
     "output_type": "execute_result"
    }
   ],
   "source": [
    "odd_Occuring_Term([4,3,4,4,4,5,5,3,3])"
   ]
  },
  {
   "cell_type": "code",
   "execution_count": 160,
   "metadata": {},
   "outputs": [],
   "source": [
    "def odd_Occuring_Term_XOR(a):\n",
    "    XOR=0\n",
    "    for i in a:\n",
    "        XOR^=i\n",
    "    return XOR"
   ]
  },
  {
   "cell_type": "code",
   "execution_count": 162,
   "metadata": {},
   "outputs": [
    {
     "data": {
      "text/plain": [
       "5"
      ]
     },
     "execution_count": 162,
     "metadata": {},
     "output_type": "execute_result"
    }
   ],
   "source": [
    "odd_Occuring_Term_XOR([4,4,3,5,5,3,5])"
   ]
  },
  {
   "cell_type": "markdown",
   "metadata": {},
   "source": [
    "## 5. Given a array of n numbers containing numbers range from 1 to n+1 so 1 number is missing we have to find missing number"
   ]
  },
  {
   "cell_type": "markdown",
   "metadata": {},
   "source": [
    "    n=5\n",
    "    a=[1,3,2,5,6]\n",
    "    o/p=4\n",
    "    n=8\n",
    "    a=[2,5,1,7,5,9,4,6]\n",
    "    o/p=3"
   ]
  },
  {
   "cell_type": "code",
   "execution_count": 165,
   "metadata": {},
   "outputs": [],
   "source": [
    "def fun(a,num):\n",
    "    res1=0\n",
    "    res2=0\n",
    "    for i in a:\n",
    "        res1^=i\n",
    "    for i in range(1,num+1):\n",
    "        res2^=i\n",
    "    return res1^res2"
   ]
  },
  {
   "cell_type": "code",
   "execution_count": 167,
   "metadata": {},
   "outputs": [
    {
     "data": {
      "text/plain": [
       "2"
      ]
     },
     "execution_count": 167,
     "metadata": {},
     "output_type": "execute_result"
    }
   ],
   "source": [
    "fun([1,4,5,6,3],6)"
   ]
  },
  {
   "cell_type": "code",
   "execution_count": null,
   "metadata": {},
   "outputs": [],
   "source": []
  }
 ],
 "metadata": {
  "kernelspec": {
   "display_name": "Python 3",
   "language": "python",
   "name": "python3"
  },
  "language_info": {
   "codemirror_mode": {
    "name": "ipython",
    "version": 3
   },
   "file_extension": ".py",
   "mimetype": "text/x-python",
   "name": "python",
   "nbconvert_exporter": "python",
   "pygments_lexer": "ipython3",
   "version": "3.7.6"
  }
 },
 "nbformat": 4,
 "nbformat_minor": 4
}
